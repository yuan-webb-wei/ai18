{
 "cells": [
  {
   "cell_type": "markdown",
   "metadata": {},
   "source": [
    "### Mountain Car With an Explicit Policy"
   ]
  },
  {
   "cell_type": "markdown",
   "metadata": {},
   "source": [
    "The explicit policy used in this mountain car problem is described below:<br />\n",
    "In each state, examine the direction of the current velocity.  Then take the action which makes the direction of car's acceleration following the direction of the current velocity.  This action should gain the maximum momentum the car can have in that state."
   ]
  },
  {
   "cell_type": "code",
   "execution_count": 1,
   "metadata": {},
   "outputs": [],
   "source": [
    "import gym"
   ]
  },
  {
   "cell_type": "code",
   "execution_count": 2,
   "metadata": {},
   "outputs": [
    {
     "name": "stdout",
     "output_type": "stream",
     "text": [
      "\u001b[33mWARN: gym.spaces.Box autodetected dtype as <class 'numpy.float32'>. Please provide explicit dtype.\u001b[0m\n"
     ]
    }
   ],
   "source": [
    "# get mountain car environment\n",
    "env = gym.make(\"MountainCar-v0\")\n",
    "# goal: car reaches the flag on top of the mountain on the right side\n",
    "# action: 0 (acceleration towards left), 1 (stay), 2 (acceleration towards right)\n",
    "# observation (state): [position (initial value: -0.5), velocity (initial value: 0.0)]"
   ]
  },
  {
   "cell_type": "code",
   "execution_count": 3,
   "metadata": {},
   "outputs": [],
   "source": [
    "def run_episode():\n",
    "    total_reward = 0\n",
    "    time_step = 0\n",
    "    observation = env.reset()\n",
    "    for time_step in range(200):\n",
    "        env.render()\n",
    "        # get position and velocity from observation (state)\n",
    "        position, velocity = observation\n",
    "        # apply the explicit policy\n",
    "        if velocity < 0:\n",
    "            action = 0\n",
    "        else:\n",
    "            action = 2\n",
    "        observation, reward, done, info = env.step(action)\n",
    "        total_reward += reward\n",
    "        if done:\n",
    "            break\n",
    "    return total_reward, time_step + 1"
   ]
  },
  {
   "cell_type": "code",
   "execution_count": 4,
   "metadata": {},
   "outputs": [
    {
     "name": "stdout",
     "output_type": "stream",
     "text": [
      "Episode: 0, Reward:-122.00, Timestep:122\n",
      "Episode: 1, Reward:-115.00, Timestep:115\n",
      "Episode: 2, Reward:-121.00, Timestep:121\n",
      "Episode: 3, Reward:-119.00, Timestep:119\n",
      "Episode: 4, Reward:-114.00, Timestep:114\n",
      "Episode: 5, Reward:-124.00, Timestep:124\n",
      "Episode: 6, Reward:-121.00, Timestep:121\n",
      "Episode: 7, Reward:-121.00, Timestep:121\n",
      "Episode: 8, Reward:-121.00, Timestep:121\n",
      "Episode: 9, Reward:-121.00, Timestep:121\n",
      "Episode:10, Reward:-122.00, Timestep:122\n",
      "Episode:11, Reward:-114.00, Timestep:114\n",
      "Episode:12, Reward:-115.00, Timestep:115\n",
      "Episode:13, Reward:-121.00, Timestep:121\n",
      "Episode:14, Reward:-116.00, Timestep:116\n",
      "Episode:15, Reward:-121.00, Timestep:121\n",
      "Episode:16, Reward:-121.00, Timestep:121\n",
      "Episode:17, Reward:-122.00, Timestep:122\n",
      "Episode:18, Reward:-124.00, Timestep:124\n",
      "Episode:19, Reward:-114.00, Timestep:114\n"
     ]
    }
   ],
   "source": [
    "# test episode runs\n",
    "for episode in range(20):\n",
    "    total_reward, time_step = run_episode()\n",
    "    print(f\"Episode:{episode:2d}, Reward:{total_reward:3.2f}, Timestep:{time_step:3d}\")"
   ]
  },
  {
   "cell_type": "code",
   "execution_count": 5,
   "metadata": {},
   "outputs": [],
   "source": [
    "# close mountain car environment\n",
    "env.close()"
   ]
  }
 ],
 "metadata": {
  "kernelspec": {
   "display_name": "Python 3",
   "language": "python",
   "name": "python3"
  },
  "language_info": {
   "codemirror_mode": {
    "name": "ipython",
    "version": 3
   },
   "file_extension": ".py",
   "mimetype": "text/x-python",
   "name": "python",
   "nbconvert_exporter": "python",
   "pygments_lexer": "ipython3",
   "version": "3.6.4"
  }
 },
 "nbformat": 4,
 "nbformat_minor": 2
}
